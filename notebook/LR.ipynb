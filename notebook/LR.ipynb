{
 "cells": [
  {
   "cell_type": "code",
   "execution_count": 1,
   "metadata": {
    "scrolled": true,
    "pycharm": {
     "name": "#%%\n"
    }
   },
   "outputs": [
    {
     "name": "stdout",
     "output_type": "stream",
     "text": [
      "Training on [cpu].\n",
      "CPU times: user 1.87 s, sys: 486 ms, total: 2.35 s\n",
      "Wall time: 1.37 s\n"
     ]
    }
   ],
   "source": [
    "%%time\n",
    "\n",
    "from utils.utils import create_dataset, Trainer\n",
    "from layer.layer import Embedding, FeaturesEmbedding, EmbeddingsInteraction, MultiLayerPerceptron\n",
    "\n",
    "import torch\n",
    "import torch.nn as nn\n",
    "import torch.optim as optim\n",
    "\n",
    "device = torch.device('cuda:0' if torch.cuda.is_available() else 'cpu')\n",
    "print('Training on [{}].'.format(device))\n"
   ]
  },
  {
   "cell_type": "code",
   "execution_count": 2,
   "metadata": {
    "pycharm": {
     "name": "#%%\n"
    }
   },
   "outputs": [
    {
     "name": "stdout",
     "output_type": "stream",
     "text": [
      "CPU times: user 3.94 s, sys: 261 ms, total: 4.21 s\n",
      "Wall time: 4.2 s\n"
     ]
    }
   ],
   "source": [
    "%%time\n",
    "\n",
    "dataset = create_dataset('criteo', sample_num=100000, device=device)\n",
    "field_dims, (train_X, train_y), (valid_X, valid_y), (test_X, test_y) = dataset.train_valid_test_split()\n"
   ]
  },
  {
   "cell_type": "markdown",
   "metadata": {
    "pycharm": {
     "name": "#%% md\n"
    }
   },
   "source": [
    "读 100K 数据的情况下，特征为 241895 维。"
   ]
  },
  {
   "cell_type": "code",
   "execution_count": 3,
   "metadata": {
    "pycharm": {
     "name": "#%%\n"
    }
   },
   "outputs": [],
   "source": [
    "class LogisticRegression(nn.Module):\n",
    "    \n",
    "    def __init__(self, field_dims):\n",
    "        super(LogisticRegression, self).__init__()\n",
    "        \n",
    "        self.bias = nn.Parameter(torch.zeros((1, )))\n",
    "        self.embed = FeaturesEmbedding(field_dims, 1)\n",
    "\n",
    "    def forward(self, x):\n",
    "        # x shape: (batch_size, num_fields)\n",
    "        output = self.embed(x).sum(dim=1) + self.bias\n",
    "        output = torch.sigmoid(output)\n",
    "        return output\n"
   ]
  },
  {
   "cell_type": "code",
   "execution_count": 4,
   "metadata": {
    "pycharm": {
     "name": "#%%\n"
    }
   },
   "outputs": [
    {
     "name": "stderr",
     "output_type": "stream",
     "text": [
      " 60%|██████    | 361/600 [00:29<00:19, 12.34it/s]\n"
     ]
    },
    {
     "data": {
      "image/png": "[encoded data removed]",
      "text/plain": [
       "<Figure size 432x288 with 1 Axes>"
      ]
     },
     "metadata": {
      "needs_background": "light"
     },
     "output_type": "display_data"
    },
    {
     "name": "stdout",
     "output_type": "stream",
     "text": [
      "train_loss: 0.34051 | train_metric: 0.91166\n",
      "valid_loss: 0.46473 | valid_metric: 0.75587\n",
      "test_loss:  0.44877 | test_auc:  0.76514\n",
      "CPU times: user 1min 32s, sys: 8.62 s, total: 1min 40s\n",
      "Wall time: 29.6 s\n"
     ]
    }
   ],
   "source": [
    "%%time\n",
    "\n",
    "LEARNING_RATE = 1e-4\n",
    "REGULARIZATION = 1e-6\n",
    "BATCH_SIZE = 4096\n",
    "EPOCH = 600\n",
    "TRIAL = 100\n",
    "\n",
    "lr = LogisticRegression(field_dims).to(device)\n",
    "optimizer = optim.Adam(lr.parameters(), lr=LEARNING_RATE, weight_decay=REGULARIZATION)\n",
    "criterion = nn.BCELoss()\n",
    "\n",
    "trainer = Trainer(lr, optimizer, criterion, BATCH_SIZE)\n",
    "trainer.train(train_X, train_y, epoch=EPOCH, trials=TRIAL, valid_X=valid_X, valid_y=valid_y)\n",
    "test_loss, test_auc = trainer.test(test_X, test_y)\n",
    "print('test_loss:  {:.5f} | test_auc:  {:.5f}'.format(test_loss, test_auc))\n"
   ]
  },
  {
   "cell_type": "code",
   "execution_count": null,
   "metadata": {
    "pycharm": {
     "name": "#%%\n"
    }
   },
   "outputs": [],
   "source": []
  }
 ],
 "metadata": {
  "kernelspec": {
   "display_name": "Python 3",
   "language": "python",
   "name": "python3"
  },
  "language_info": {
   "codemirror_mode": {
    "name": "ipython",
    "version": 3
   },
   "file_extension": ".py",
   "mimetype": "text/x-python",
   "name": "python",
   "nbconvert_exporter": "python",
   "pygments_lexer": "ipython3",
   "version": "3.7.4"
  }
 },
 "nbformat": 4,
 "nbformat_minor": 4
}