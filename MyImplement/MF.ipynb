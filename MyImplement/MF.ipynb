{
 "cells": [
  {
   "cell_type": "markdown",
   "source": [
    "# MF"
   ],
   "metadata": {
    "collapsed": false,
    "pycharm": {
     "name": "#%% md\n"
    }
   }
  },
  {
   "cell_type": "code",
   "execution_count": 20,
   "outputs": [],
   "source": [
    "# 加载依赖\n",
    "import numpy as np\n",
    "import torch\n",
    "from torch.utils.data import DataLoader\n",
    "import torch.nn as nn\n",
    "import torch.optim as optim\n",
    "\n",
    "from tqdm import tqdm\n",
    "from utils.movielens_dataset import MovieLensDatasetWithTorch\n",
    "from utils.metric import Metric\n",
    "from utils.trainer import Trainer"
   ],
   "metadata": {
    "collapsed": false,
    "pycharm": {
     "name": "#%%\n"
    }
   }
  },
  {
   "cell_type": "code",
   "execution_count": 21,
   "outputs": [],
   "source": [
    "# 使用的超参数\n",
    "config = {\n",
    "    'TRAIN_BATCH_SIZE': 8,\n",
    "    'VALID_BATCH_SIZE': 4,\n",
    "    'TEST_BATCH_SIZE': 4,\n",
    "    'DATASET_RATIO': [0.8, 0.1, 0.1],\n",
    "    'DEVICE': 'cpu',\n",
    "    'NUM_WORKERS': 0,\n",
    "    'EPOCH': 30,\n",
    "    'NUM_FEATURE': 111,\n",
    "    'POS_WEIGHT': 2,\n",
    "    'LEARNING_RATE': 1e-3,\n",
    "    'K': 8,\n",
    "    'TASK': 'recommend',\n",
    "    'USER_NUM': 611,\n",
    "    'ITEM_NUM': 193610,\n",
    "}"
   ],
   "metadata": {
    "collapsed": false,
    "pycharm": {
     "name": "#%%\n"
    }
   }
  },
  {
   "cell_type": "code",
   "execution_count": 22,
   "metadata": {
    "collapsed": true,
    "pycharm": {
     "name": "#%%\n"
    }
   },
   "outputs": [],
   "source": [
    "# 加载数据集\n",
    "# MovieLens\n",
    "with open('../dataset/ml-latest-small-ratings.txt', 'r', encoding='utf-8') as f:\n",
    "    ml_dataset = MovieLensDatasetWithTorch(f, task='rating')\n",
    "dataset_size = len(ml_dataset)\n",
    "dataset_split_size = [int(dataset_size * r) for r in config['DATASET_RATIO']]\n",
    "if sum(dataset_split_size) != dataset_size:\n",
    "    dataset_split_size[-1] += dataset_size - sum(dataset_split_size)\n",
    "train_set, valid_set, test_set = torch.utils.data.random_split(ml_dataset, dataset_split_size)\n",
    "\n",
    "user_num, item_num = ml_dataset.user_num, ml_dataset.item_num"
   ]
  },
  {
   "cell_type": "code",
   "execution_count": 22,
   "outputs": [],
   "source": [],
   "metadata": {
    "collapsed": false,
    "pycharm": {
     "name": "#%%\n"
    }
   }
  },
  {
   "cell_type": "code",
   "execution_count": 23,
   "outputs": [
    {
     "data": {
      "text/plain": "[(610, 193609), tensor(0.)]"
     },
     "execution_count": 23,
     "metadata": {},
     "output_type": "execute_result"
    }
   ],
   "source": [
    "ml_dataset[610, 193609]"
   ],
   "metadata": {
    "collapsed": false,
    "pycharm": {
     "name": "#%%\n"
    }
   }
  },
  {
   "cell_type": "code",
   "execution_count": 24,
   "outputs": [],
   "source": [
    "train_loader = DataLoader(\n",
    "    dataset=train_set,\n",
    "    batch_size=config['TRAIN_BATCH_SIZE'],\n",
    "    shuffle=True,\n",
    "    num_workers=config['NUM_WORKERS']\n",
    ")\n",
    "\n",
    "valid_loader = DataLoader(\n",
    "    dataset=valid_set,\n",
    "    batch_size=config['VALID_BATCH_SIZE'],\n",
    "    shuffle=False,\n",
    "    num_workers=config['NUM_WORKERS']\n",
    ")\n",
    "\n",
    "test_loader = DataLoader(\n",
    "    dataset=test_set,\n",
    "    batch_size=config['TEST_BATCH_SIZE'],\n",
    "    shuffle=False,\n",
    "    num_workers=config['NUM_WORKERS']\n",
    ")"
   ],
   "metadata": {
    "collapsed": false,
    "pycharm": {
     "name": "#%%\n"
    }
   }
  },
  {
   "cell_type": "code",
   "execution_count": 25,
   "outputs": [],
   "source": [
    "# 构建模型\n",
    "class MF(nn.Module):\n",
    "    def __init__(self, user_num, item_num, k):\n",
    "        super(MF, self).__init__()\n",
    "        U = torch.zeros((user_num, k))\n",
    "        I = torch.zeros((item_num, k))\n",
    "        user_bias = torch.zeros((user_num, k))\n",
    "        item_bias = torch.zeros((item_num, k))\n",
    "\n",
    "        nn.init.xavier_uniform_(U)\n",
    "        nn.init.xavier_uniform_(I)\n",
    "        nn.init.xavier_uniform_(user_bias)\n",
    "        nn.init.xavier_uniform_(item_bias)\n",
    "\n",
    "        self.U = nn.Parameter(U, requires_grad=True)\n",
    "        self.I = nn.Parameter(I, requires_grad=True)\n",
    "        self.user_bias = nn.Parameter(user_bias, requires_grad=True)\n",
    "        self.item_bias = nn.Parameter(item_bias, requires_grad=True)\n",
    "\n",
    "    def forward(self, batch_data):\n",
    "        user_idx_lst = batch_data[0]\n",
    "        sparse_indices = batch_data[1].coalesce().indices()\n",
    "        for i in range(len(user_idx_lst)):\n",
    "            sparse_indices[0, :] = torch.where(sparse_indices[0, :] == i, user_idx_lst[i], sparse_indices[0, :])\n",
    "        user_idx = sparse_indices[0, :]\n",
    "        item_idx = sparse_indices[1, :]\n",
    "\n",
    "        user_factor = self.U[user_idx, :]\n",
    "        item_factor = self.I[item_idx, :]\n",
    "        user_bias = self.user_bias[user_idx, :]\n",
    "        item_bias = self.item_bias[item_idx, :]\n",
    "        # print(user_factor.shape)\n",
    "        # print(item_factor.shape)\n",
    "        return torch.sum(user_factor * item_factor + user_bias + item_bias, dim=1)\n",
    "\n",
    "    def rec(self, user_idx_lst, k=50):\n",
    "        # print(user_idx_lst)\n",
    "        return torch.topk(torch.matmul(self.U[user_idx_lst, :], self.I.t()), k=k, dim=1)"
   ],
   "metadata": {
    "collapsed": false,
    "pycharm": {
     "name": "#%%\n"
    }
   }
  },
  {
   "cell_type": "code",
   "execution_count": 26,
   "outputs": [],
   "source": [
    "class MFTrainer(Trainer):\n",
    "    def step(self, batch_data, mode='train', **param_for_rec):\n",
    "        device = self.config['DEVICE']\n",
    "\n",
    "        def compute_pred(batch_data):\n",
    "            # print(batch_data[1].shape)\n",
    "            pred = self.model(batch_data)\n",
    "            loss = self.loss_func(pred, batch_data[1].coalesce().values())\n",
    "            gt_rec_lst = param_for_rec['gt_rec_lst']\n",
    "            pred_rec_lst = param_for_rec['pred_rec_lst']\n",
    "            if mode == 'evaluate':\n",
    "                user_idx_lst = batch_data[0]\n",
    "                sparse_indices = batch_data[1].coalesce().indices()\n",
    "                for i in range(len(user_idx_lst)):\n",
    "                    tmp_idx = torch.nonzero(sparse_indices[0, :] == i).view(-1)\n",
    "                    gt_rec_lst.extend(sparse_indices[1, tmp_idx].tolist())\n",
    "                pred_rec_lst.extend((self.model.rec(user_idx_lst)[1] + 1).tolist())\n",
    "                self.metric.compute_metric(gt_rec_lst, pred_rec_lst, 200000, len(gt_rec_lst))\n",
    "\n",
    "            return pred, loss, gt_rec_lst, pred_rec_lst\n",
    "\n",
    "        if mode == 'train':\n",
    "            self.model.train()\n",
    "            self.optimizer.zero_grad()\n",
    "            pred, loss = compute_pred(batch_data)\n",
    "            loss.backward()\n",
    "            self.optimizer.step()\n",
    "            return loss.item(), pred\n",
    "        elif mode == 'evaluate':\n",
    "            with torch.no_grad():\n",
    "                self.model.eval()\n",
    "                pred, loss, gt_rec_lst, pred_rec_lst = compute_pred(batch_data)\n",
    "\n",
    "                return loss.item(), pred, gt_rec_lst, pred_rec_lst\n",
    "        else:\n",
    "            raise ValueError(\"Wrong Mode\")"
   ],
   "metadata": {
    "collapsed": false,
    "pycharm": {
     "name": "#%%\n"
    }
   }
  },
  {
   "cell_type": "code",
   "execution_count": 27,
   "outputs": [
    {
     "name": "stdout",
     "output_type": "stream",
     "text": [
      "==========Config==========\n",
      "TRAIN_BATCH_SIZE: 8\n",
      "VALID_BATCH_SIZE: 4\n",
      "TEST_BATCH_SIZE: 4\n",
      "DATASET_RATIO: [0.8, 0.1, 0.1]\n",
      "DEVICE: cpu\n",
      "NUM_WORKERS: 0\n",
      "EPOCH: 30\n",
      "NUM_FEATURE: 111\n",
      "POS_WEIGHT: 2\n",
      "LEARNING_RATE: 0.001\n",
      "K: 8\n",
      "TASK: recommend\n",
      "USER_NUM: 611\n",
      "ITEM_NUM: 193610\n",
      "=========================\n"
     ]
    }
   ],
   "source": [
    "model = MF(user_num, item_num, k=config['K'])\n",
    "optimizer = optim.Adam(lr=config['LEARNING_RATE'], params=model.parameters())\n",
    "loss_func = nn.MSELoss()\n",
    "metric = Metric(k=(1, 10, 50))\n",
    "\n",
    "trainer = Trainer(\n",
    "    model=model,\n",
    "    loss_func=loss_func,\n",
    "    optimizer=optimizer,\n",
    "    metric=metric,\n",
    "    train_loader=train_loader,\n",
    "    valid_loader=valid_loader,\n",
    "    test_loader=test_loader,\n",
    "    config=config,\n",
    ")"
   ],
   "metadata": {
    "collapsed": false,
    "pycharm": {
     "name": "#%%\n"
    }
   }
  },
  {
   "cell_type": "code",
   "execution_count": 28,
   "outputs": [
    {
     "name": "stdout",
     "output_type": "stream",
     "text": [
      "==========TRAIN BEGIN==========\n"
     ]
    },
    {
     "name": "stderr",
     "output_type": "stream",
     "text": [
      "100%|██████████| 61/61 [00:00<00:00, 114.16it/s]\n"
     ]
    },
    {
     "name": "stdout",
     "output_type": "stream",
     "text": [
      "Train Epoch: 1\n",
      "Loss: 12.914455585792416\n"
     ]
    },
    {
     "name": "stderr",
     "output_type": "stream",
     "text": [
      "100%|██████████| 16/16 [00:00<00:00, 319.88it/s]\n"
     ]
    },
    {
     "name": "stdout",
     "output_type": "stream",
     "text": [
      "Valid Epoch: 1\n",
      "hit:\n",
      "\thit@1: 0.0492\n",
      "\thit@10: 0.2623\n",
      "\thit@50: 0.5574\n",
      "gini_index:\n",
      "\tgini_index@1: 0.1157\n",
      "\tgini_index@10: 0.2734\n",
      "\tgini_index@50: 0.3429\n",
      "diversity:\n",
      "\tdiversity@1: 0.9951\n",
      "\tdiversity@10: 0.9785\n",
      "\tdiversity@50: 0.9656\n",
      "nDCG:\n",
      "\tnDCG@1: 0.0492\n",
      "\tnDCG@10: 0.1418\n",
      "\tnDCG@50: 0.1983\n",
      "MRR:\n",
      "\tMRR@1: 0.0492\n",
      "\tMRR@10: 0.1076\n",
      "\tMRR@50: 0.1211\n",
      "\n"
     ]
    },
    {
     "name": "stderr",
     "output_type": "stream",
     "text": [
      "100%|██████████| 61/61 [00:00<00:00, 111.77it/s]\n"
     ]
    },
    {
     "name": "stdout",
     "output_type": "stream",
     "text": [
      "Train Epoch: 2\n",
      "Loss: 10.890722290414278\n"
     ]
    },
    {
     "name": "stderr",
     "output_type": "stream",
     "text": [
      "100%|██████████| 16/16 [00:00<00:00, 289.37it/s]\n"
     ]
    },
    {
     "name": "stdout",
     "output_type": "stream",
     "text": [
      "Valid Epoch: 2\n",
      "hit:\n",
      "\thit@1: 0.0492\n",
      "\thit@10: 0.2295\n",
      "\thit@50: 0.4590\n",
      "gini_index:\n",
      "\tgini_index@1: 0.0876\n",
      "\tgini_index@10: 0.2650\n",
      "\tgini_index@50: 0.3368\n",
      "diversity:\n",
      "\tdiversity@1: 0.9967\n",
      "\tdiversity@10: 0.9802\n",
      "\tdiversity@50: 0.9676\n",
      "nDCG:\n",
      "\tnDCG@1: 0.0492\n",
      "\tnDCG@10: 0.1310\n",
      "\tnDCG@50: 0.1715\n",
      "MRR:\n",
      "\tMRR@1: 0.0492\n",
      "\tMRR@10: 0.1007\n",
      "\tMRR@50: 0.1102\n",
      "\n"
     ]
    },
    {
     "name": "stderr",
     "output_type": "stream",
     "text": [
      "100%|██████████| 61/61 [00:00<00:00, 105.85it/s]\n"
     ]
    },
    {
     "name": "stdout",
     "output_type": "stream",
     "text": [
      "Train Epoch: 3\n",
      "Loss: 9.005512221914824\n"
     ]
    },
    {
     "name": "stderr",
     "output_type": "stream",
     "text": [
      "100%|██████████| 16/16 [00:00<00:00, 264.64it/s]\n"
     ]
    },
    {
     "name": "stdout",
     "output_type": "stream",
     "text": [
      "Valid Epoch: 3\n",
      "hit:\n",
      "\thit@1: 0.0656\n",
      "\thit@10: 0.2459\n",
      "\thit@50: 0.5246\n",
      "gini_index:\n",
      "\tgini_index@1: 0.0627\n",
      "\tgini_index@10: 0.2416\n",
      "\tgini_index@50: 0.3220\n",
      "diversity:\n",
      "\tdiversity@1: 0.9973\n",
      "\tdiversity@10: 0.9843\n",
      "\tdiversity@50: 0.9713\n",
      "nDCG:\n",
      "\tnDCG@1: 0.0656\n",
      "\tnDCG@10: 0.1310\n",
      "\tnDCG@50: 0.1927\n",
      "MRR:\n",
      "\tMRR@1: 0.0656\n",
      "\tMRR@10: 0.1120\n",
      "\tMRR@50: 0.1235\n",
      "\n"
     ]
    },
    {
     "name": "stderr",
     "output_type": "stream",
     "text": [
      "100%|██████████| 61/61 [00:00<00:00, 109.39it/s]\n"
     ]
    },
    {
     "name": "stdout",
     "output_type": "stream",
     "text": [
      "Train Epoch: 4\n",
      "Loss: 7.6024624558745835\n"
     ]
    },
    {
     "name": "stderr",
     "output_type": "stream",
     "text": [
      "100%|██████████| 16/16 [00:00<00:00, 293.64it/s]\n"
     ]
    },
    {
     "name": "stdout",
     "output_type": "stream",
     "text": [
      "Valid Epoch: 4\n",
      "hit:\n",
      "\thit@1: 0.1148\n",
      "\thit@10: 0.2295\n",
      "\thit@50: 0.5410\n",
      "gini_index:\n",
      "\tgini_index@1: 0.1060\n",
      "\tgini_index@10: 0.2347\n",
      "\tgini_index@50: 0.3263\n",
      "diversity:\n",
      "\tdiversity@1: 0.9951\n",
      "\tdiversity@10: 0.9847\n",
      "\tdiversity@50: 0.9699\n",
      "nDCG:\n",
      "\tnDCG@1: 0.1148\n",
      "\tnDCG@10: 0.1555\n",
      "\tnDCG@50: 0.2225\n",
      "MRR:\n",
      "\tMRR@1: 0.1148\n",
      "\tMRR@10: 0.1512\n",
      "\tMRR@50: 0.1682\n",
      "\n"
     ]
    },
    {
     "name": "stderr",
     "output_type": "stream",
     "text": [
      "100%|██████████| 61/61 [00:00<00:00, 113.44it/s]\n"
     ]
    },
    {
     "name": "stdout",
     "output_type": "stream",
     "text": [
      "Train Epoch: 5\n",
      "Loss: 6.3585824301985445\n"
     ]
    },
    {
     "name": "stderr",
     "output_type": "stream",
     "text": [
      "100%|██████████| 16/16 [00:00<00:00, 306.21it/s]\n"
     ]
    },
    {
     "name": "stdout",
     "output_type": "stream",
     "text": [
      "Valid Epoch: 5\n",
      "hit:\n",
      "\thit@1: 0.1311\n",
      "\thit@10: 0.3770\n",
      "\thit@50: 0.5246\n",
      "gini_index:\n",
      "\tgini_index@1: 0.1157\n",
      "\tgini_index@10: 0.2474\n",
      "\tgini_index@50: 0.3382\n",
      "diversity:\n",
      "\tdiversity@1: 0.9951\n",
      "\tdiversity@10: 0.9837\n",
      "\tdiversity@50: 0.9671\n",
      "nDCG:\n",
      "\tnDCG@1: 0.1311\n",
      "\tnDCG@10: 0.2138\n",
      "\tnDCG@50: 0.2419\n",
      "MRR:\n",
      "\tMRR@1: 0.1311\n",
      "\tMRR@10: 0.1855\n",
      "\tMRR@50: 0.1912\n",
      "\n"
     ]
    },
    {
     "name": "stderr",
     "output_type": "stream",
     "text": [
      "100%|██████████| 61/61 [00:00<00:00, 114.11it/s]\n"
     ]
    },
    {
     "name": "stdout",
     "output_type": "stream",
     "text": [
      "Train Epoch: 6\n",
      "Loss: 5.286051621202563\n"
     ]
    },
    {
     "name": "stderr",
     "output_type": "stream",
     "text": [
      "100%|██████████| 16/16 [00:00<00:00, 297.78it/s]\n"
     ]
    },
    {
     "name": "stdout",
     "output_type": "stream",
     "text": [
      "Valid Epoch: 6\n",
      "hit:\n",
      "\thit@1: 0.1311\n",
      "\thit@10: 0.3770\n",
      "\thit@50: 0.5246\n",
      "gini_index:\n",
      "\tgini_index@1: 0.1626\n",
      "\tgini_index@10: 0.2596\n",
      "\tgini_index@50: 0.3548\n",
      "diversity:\n",
      "\tdiversity@1: 0.9918\n",
      "\tdiversity@10: 0.9802\n",
      "\tdiversity@50: 0.9605\n",
      "nDCG:\n",
      "\tnDCG@1: 0.1311\n",
      "\tnDCG@10: 0.2405\n",
      "\tnDCG@50: 0.2612\n",
      "MRR:\n",
      "\tMRR@1: 0.1311\n",
      "\tMRR@10: 0.1947\n",
      "\tMRR@50: 0.2006\n",
      "\n"
     ]
    },
    {
     "name": "stderr",
     "output_type": "stream",
     "text": [
      "100%|██████████| 61/61 [00:00<00:00, 105.72it/s]\n"
     ]
    },
    {
     "name": "stdout",
     "output_type": "stream",
     "text": [
      "Train Epoch: 7\n",
      "Loss: 4.46349814289906\n"
     ]
    },
    {
     "name": "stderr",
     "output_type": "stream",
     "text": [
      "100%|██████████| 16/16 [00:00<00:00, 273.34it/s]\n"
     ]
    },
    {
     "name": "stdout",
     "output_type": "stream",
     "text": [
      "Valid Epoch: 7\n",
      "hit:\n",
      "\thit@1: 0.1475\n",
      "\thit@10: 0.3770\n",
      "\thit@50: 0.4754\n",
      "gini_index:\n",
      "\tgini_index@1: 0.1779\n",
      "\tgini_index@10: 0.2883\n",
      "\tgini_index@50: 0.3732\n",
      "diversity:\n",
      "\tdiversity@1: 0.9896\n",
      "\tdiversity@10: 0.9736\n",
      "\tdiversity@50: 0.9540\n",
      "nDCG:\n",
      "\tnDCG@1: 0.1475\n",
      "\tnDCG@10: 0.2418\n",
      "\tnDCG@50: 0.2611\n",
      "MRR:\n",
      "\tMRR@1: 0.1475\n",
      "\tMRR@10: 0.1989\n",
      "\tMRR@50: 0.2046\n",
      "\n"
     ]
    },
    {
     "name": "stderr",
     "output_type": "stream",
     "text": [
      "100%|██████████| 61/61 [00:00<00:00, 102.68it/s]\n"
     ]
    },
    {
     "name": "stdout",
     "output_type": "stream",
     "text": [
      "Train Epoch: 8\n",
      "Loss: 3.721196170713081\n"
     ]
    },
    {
     "name": "stderr",
     "output_type": "stream",
     "text": [
      "100%|██████████| 16/16 [00:00<00:00, 245.97it/s]\n"
     ]
    },
    {
     "name": "stdout",
     "output_type": "stream",
     "text": [
      "Valid Epoch: 8\n",
      "hit:\n",
      "\thit@1: 0.1148\n",
      "\thit@10: 0.3934\n",
      "\thit@50: 0.5082\n",
      "gini_index:\n",
      "\tgini_index@1: 0.1577\n",
      "\tgini_index@10: 0.3107\n",
      "\tgini_index@50: 0.3900\n",
      "diversity:\n",
      "\tdiversity@1: 0.9918\n",
      "\tdiversity@10: 0.9673\n",
      "\tdiversity@50: 0.9472\n",
      "nDCG:\n",
      "\tnDCG@1: 0.1148\n",
      "\tnDCG@10: 0.2507\n",
      "\tnDCG@50: 0.2771\n",
      "MRR:\n",
      "\tMRR@1: 0.1148\n",
      "\tMRR@10: 0.1956\n",
      "\tMRR@50: 0.2009\n",
      "\n"
     ]
    },
    {
     "name": "stderr",
     "output_type": "stream",
     "text": [
      "100%|██████████| 61/61 [00:00<00:00, 103.96it/s]\n"
     ]
    },
    {
     "name": "stdout",
     "output_type": "stream",
     "text": [
      "Train Epoch: 9\n",
      "Loss: 3.1941740727815473\n"
     ]
    },
    {
     "name": "stderr",
     "output_type": "stream",
     "text": [
      "100%|██████████| 16/16 [00:00<00:00, 257.28it/s]\n"
     ]
    },
    {
     "name": "stdout",
     "output_type": "stream",
     "text": [
      "Valid Epoch: 9\n",
      "hit:\n",
      "\thit@1: 0.0984\n",
      "\thit@10: 0.3770\n",
      "\thit@50: 0.4918\n",
      "gini_index:\n",
      "\tgini_index@1: 0.2356\n",
      "\tgini_index@10: 0.3212\n",
      "\tgini_index@50: 0.3966\n",
      "diversity:\n",
      "\tdiversity@1: 0.9836\n",
      "\tdiversity@10: 0.9648\n",
      "\tdiversity@50: 0.9444\n",
      "nDCG:\n",
      "\tnDCG@1: 0.0984\n",
      "\tnDCG@10: 0.2448\n",
      "\tnDCG@50: 0.2745\n",
      "MRR:\n",
      "\tMRR@1: 0.0984\n",
      "\tMRR@10: 0.1885\n",
      "\tMRR@50: 0.1956\n",
      "\n"
     ]
    },
    {
     "name": "stderr",
     "output_type": "stream",
     "text": [
      "100%|██████████| 61/61 [00:00<00:00, 104.94it/s]\n"
     ]
    },
    {
     "name": "stdout",
     "output_type": "stream",
     "text": [
      "Train Epoch: 10\n",
      "Loss: 2.6780152711711946\n"
     ]
    },
    {
     "name": "stderr",
     "output_type": "stream",
     "text": [
      "100%|██████████| 16/16 [00:00<00:00, 261.48it/s]\n"
     ]
    },
    {
     "name": "stdout",
     "output_type": "stream",
     "text": [
      "Valid Epoch: 10\n",
      "hit:\n",
      "\thit@1: 0.1148\n",
      "\thit@10: 0.3934\n",
      "\thit@50: 0.4918\n",
      "gini_index:\n",
      "\tgini_index@1: 0.2642\n",
      "\tgini_index@10: 0.3172\n",
      "\tgini_index@50: 0.4069\n",
      "diversity:\n",
      "\tdiversity@1: 0.9765\n",
      "\tdiversity@10: 0.9649\n",
      "\tdiversity@50: 0.9404\n",
      "nDCG:\n",
      "\tnDCG@1: 0.1148\n",
      "\tnDCG@10: 0.2552\n",
      "\tnDCG@50: 0.2816\n",
      "MRR:\n",
      "\tMRR@1: 0.1148\n",
      "\tMRR@10: 0.2037\n",
      "\tMRR@50: 0.2111\n",
      "\n"
     ]
    },
    {
     "name": "stderr",
     "output_type": "stream",
     "text": [
      "100%|██████████| 61/61 [00:00<00:00, 107.79it/s]\n"
     ]
    },
    {
     "name": "stdout",
     "output_type": "stream",
     "text": [
      "Train Epoch: 11\n",
      "Loss: 2.3549357887174263\n"
     ]
    },
    {
     "name": "stderr",
     "output_type": "stream",
     "text": [
      "100%|██████████| 16/16 [00:00<00:00, 254.59it/s]\n"
     ]
    },
    {
     "name": "stdout",
     "output_type": "stream",
     "text": [
      "Valid Epoch: 11\n",
      "hit:\n",
      "\thit@1: 0.1311\n",
      "\thit@10: 0.4098\n",
      "\thit@50: 0.4918\n",
      "gini_index:\n",
      "\tgini_index@1: 0.2448\n",
      "\tgini_index@10: 0.3222\n",
      "\tgini_index@50: 0.4050\n",
      "diversity:\n",
      "\tdiversity@1: 0.9749\n",
      "\tdiversity@10: 0.9631\n",
      "\tdiversity@50: 0.9400\n",
      "nDCG:\n",
      "\tnDCG@1: 0.1311\n",
      "\tnDCG@10: 0.2663\n",
      "\tnDCG@50: 0.2853\n",
      "MRR:\n",
      "\tMRR@1: 0.1311\n",
      "\tMRR@10: 0.2151\n",
      "\tMRR@50: 0.2211\n",
      "\n"
     ]
    },
    {
     "name": "stderr",
     "output_type": "stream",
     "text": [
      "100%|██████████| 61/61 [00:00<00:00, 103.96it/s]\n"
     ]
    },
    {
     "name": "stdout",
     "output_type": "stream",
     "text": [
      "Train Epoch: 12\n",
      "Loss: 2.038222604110593\n"
     ]
    },
    {
     "name": "stderr",
     "output_type": "stream",
     "text": [
      "100%|██████████| 16/16 [00:00<00:00, 257.43it/s]\n"
     ]
    },
    {
     "name": "stdout",
     "output_type": "stream",
     "text": [
      "Valid Epoch: 12\n",
      "hit:\n",
      "\thit@1: 0.1311\n",
      "\thit@10: 0.4262\n",
      "\thit@50: 0.5082\n",
      "gini_index:\n",
      "\tgini_index@1: 0.2448\n",
      "\tgini_index@10: 0.3341\n",
      "\tgini_index@50: 0.4032\n",
      "diversity:\n",
      "\tdiversity@1: 0.9749\n",
      "\tdiversity@10: 0.9609\n",
      "\tdiversity@50: 0.9407\n",
      "nDCG:\n",
      "\tnDCG@1: 0.1311\n",
      "\tnDCG@10: 0.2664\n",
      "\tnDCG@50: 0.2875\n",
      "MRR:\n",
      "\tMRR@1: 0.1311\n",
      "\tMRR@10: 0.2205\n",
      "\tMRR@50: 0.2253\n",
      "\n"
     ]
    },
    {
     "name": "stderr",
     "output_type": "stream",
     "text": [
      "100%|██████████| 61/61 [00:00<00:00, 100.54it/s]\n"
     ]
    },
    {
     "name": "stdout",
     "output_type": "stream",
     "text": [
      "Train Epoch: 13\n",
      "Loss: 1.7851169207057014\n"
     ]
    },
    {
     "name": "stderr",
     "output_type": "stream",
     "text": [
      "100%|██████████| 16/16 [00:00<00:00, 242.95it/s]\n"
     ]
    },
    {
     "name": "stdout",
     "output_type": "stream",
     "text": [
      "Valid Epoch: 13\n",
      "hit:\n",
      "\thit@1: 0.1311\n",
      "\thit@10: 0.4426\n",
      "\thit@50: 0.5082\n",
      "gini_index:\n",
      "\tgini_index@1: 0.2493\n",
      "\tgini_index@10: 0.3413\n",
      "\tgini_index@50: 0.4051\n",
      "diversity:\n",
      "\tdiversity@1: 0.9743\n",
      "\tdiversity@10: 0.9597\n",
      "\tdiversity@50: 0.9404\n",
      "nDCG:\n",
      "\tnDCG@1: 0.1311\n",
      "\tnDCG@10: 0.2714\n",
      "\tnDCG@50: 0.2875\n",
      "MRR:\n",
      "\tMRR@1: 0.1311\n",
      "\tMRR@10: 0.2204\n",
      "\tMRR@50: 0.2240\n",
      "\n"
     ]
    },
    {
     "name": "stderr",
     "output_type": "stream",
     "text": [
      "100%|██████████| 61/61 [00:00<00:00, 100.52it/s]\n"
     ]
    },
    {
     "name": "stdout",
     "output_type": "stream",
     "text": [
      "Train Epoch: 14\n",
      "Loss: 1.6469305235831464\n"
     ]
    },
    {
     "name": "stderr",
     "output_type": "stream",
     "text": [
      "100%|██████████| 16/16 [00:00<00:00, 218.89it/s]\n"
     ]
    },
    {
     "name": "stdout",
     "output_type": "stream",
     "text": [
      "Valid Epoch: 14\n",
      "hit:\n",
      "\thit@1: 0.1311\n",
      "\thit@10: 0.3770\n",
      "\thit@50: 0.5082\n",
      "gini_index:\n",
      "\tgini_index@1: 0.2135\n",
      "\tgini_index@10: 0.3381\n",
      "\tgini_index@50: 0.4004\n",
      "diversity:\n",
      "\tdiversity@1: 0.9765\n",
      "\tdiversity@10: 0.9613\n",
      "\tdiversity@50: 0.9428\n",
      "nDCG:\n",
      "\tnDCG@1: 0.1311\n",
      "\tnDCG@10: 0.2461\n",
      "\tnDCG@50: 0.2814\n",
      "MRR:\n",
      "\tMRR@1: 0.1311\n",
      "\tMRR@10: 0.2085\n",
      "\tMRR@50: 0.2174\n",
      "\n"
     ]
    },
    {
     "name": "stderr",
     "output_type": "stream",
     "text": [
      "100%|██████████| 61/61 [00:00<00:00, 100.86it/s]\n"
     ]
    },
    {
     "name": "stdout",
     "output_type": "stream",
     "text": [
      "Train Epoch: 15\n",
      "Loss: 1.4714358273099681\n"
     ]
    },
    {
     "name": "stderr",
     "output_type": "stream",
     "text": [
      "100%|██████████| 16/16 [00:00<00:00, 247.28it/s]\n"
     ]
    },
    {
     "name": "stdout",
     "output_type": "stream",
     "text": [
      "Valid Epoch: 15\n",
      "hit:\n",
      "\thit@1: 0.1475\n",
      "\thit@10: 0.3607\n",
      "\thit@50: 0.5082\n",
      "gini_index:\n",
      "\tgini_index@1: 0.2135\n",
      "\tgini_index@10: 0.3325\n",
      "\tgini_index@50: 0.3966\n",
      "diversity:\n",
      "\tdiversity@1: 0.9765\n",
      "\tdiversity@10: 0.9628\n",
      "\tdiversity@50: 0.9451\n",
      "nDCG:\n",
      "\tnDCG@1: 0.1475\n",
      "\tnDCG@10: 0.2403\n",
      "\tnDCG@50: 0.2776\n",
      "MRR:\n",
      "\tMRR@1: 0.1475\n",
      "\tMRR@10: 0.2120\n",
      "\tMRR@50: 0.2218\n",
      "\n"
     ]
    },
    {
     "name": "stderr",
     "output_type": "stream",
     "text": [
      "100%|██████████| 61/61 [00:00<00:00, 102.98it/s]\n"
     ]
    },
    {
     "name": "stdout",
     "output_type": "stream",
     "text": [
      "Train Epoch: 16\n",
      "Loss: 1.3561536142083466\n"
     ]
    },
    {
     "name": "stderr",
     "output_type": "stream",
     "text": [
      "100%|██████████| 16/16 [00:00<00:00, 238.54it/s]\n"
     ]
    },
    {
     "name": "stdout",
     "output_type": "stream",
     "text": [
      "Valid Epoch: 16\n",
      "hit:\n",
      "\thit@1: 0.1475\n",
      "\thit@10: 0.3607\n",
      "\thit@50: 0.5082\n",
      "gini_index:\n",
      "\tgini_index@1: 0.2426\n",
      "\tgini_index@10: 0.3307\n",
      "\tgini_index@50: 0.3920\n",
      "diversity:\n",
      "\tdiversity@1: 0.9738\n",
      "\tdiversity@10: 0.9626\n",
      "\tdiversity@50: 0.9470\n",
      "nDCG:\n",
      "\tnDCG@1: 0.1475\n",
      "\tnDCG@10: 0.2402\n",
      "\tnDCG@50: 0.2732\n",
      "MRR:\n",
      "\tMRR@1: 0.1475\n",
      "\tMRR@10: 0.2114\n",
      "\tMRR@50: 0.2218\n",
      "\n"
     ]
    },
    {
     "name": "stderr",
     "output_type": "stream",
     "text": [
      "100%|██████████| 61/61 [00:00<00:00, 97.12it/s]\n"
     ]
    },
    {
     "name": "stdout",
     "output_type": "stream",
     "text": [
      "Train Epoch: 17\n",
      "Loss: 1.2571158565458704\n"
     ]
    },
    {
     "name": "stderr",
     "output_type": "stream",
     "text": [
      "100%|██████████| 16/16 [00:00<00:00, 251.95it/s]\n"
     ]
    },
    {
     "name": "stdout",
     "output_type": "stream",
     "text": [
      "Valid Epoch: 17\n",
      "hit:\n",
      "\thit@1: 0.1475\n",
      "\thit@10: 0.3607\n",
      "\thit@50: 0.5082\n",
      "gini_index:\n",
      "\tgini_index@1: 0.2176\n",
      "\tgini_index@10: 0.3291\n",
      "\tgini_index@50: 0.3887\n",
      "diversity:\n",
      "\tdiversity@1: 0.9749\n",
      "\tdiversity@10: 0.9646\n",
      "\tdiversity@50: 0.9493\n",
      "nDCG:\n",
      "\tnDCG@1: 0.1475\n",
      "\tnDCG@10: 0.2370\n",
      "\tnDCG@50: 0.2657\n",
      "MRR:\n",
      "\tMRR@1: 0.1475\n",
      "\tMRR@10: 0.2112\n",
      "\tMRR@50: 0.2204\n",
      "\n"
     ]
    },
    {
     "name": "stderr",
     "output_type": "stream",
     "text": [
      "100%|██████████| 61/61 [00:00<00:00, 97.09it/s]\n"
     ]
    },
    {
     "name": "stdout",
     "output_type": "stream",
     "text": [
      "Train Epoch: 18\n",
      "Loss: 1.1733797554109917\n"
     ]
    },
    {
     "name": "stderr",
     "output_type": "stream",
     "text": [
      "100%|██████████| 16/16 [00:00<00:00, 255.86it/s]\n"
     ]
    },
    {
     "name": "stdout",
     "output_type": "stream",
     "text": [
      "Valid Epoch: 18\n",
      "hit:\n",
      "\thit@1: 0.1311\n",
      "\thit@10: 0.3279\n",
      "\thit@50: 0.5082\n",
      "gini_index:\n",
      "\tgini_index@1: 0.2190\n",
      "\tgini_index@10: 0.3215\n",
      "\tgini_index@50: 0.3837\n",
      "diversity:\n",
      "\tdiversity@1: 0.9732\n",
      "\tdiversity@10: 0.9668\n",
      "\tdiversity@50: 0.9523\n",
      "nDCG:\n",
      "\tnDCG@1: 0.1311\n",
      "\tnDCG@10: 0.2120\n",
      "\tnDCG@50: 0.2518\n",
      "MRR:\n",
      "\tMRR@1: 0.1311\n",
      "\tMRR@10: 0.1962\n",
      "\tMRR@50: 0.2069\n",
      "\n"
     ]
    },
    {
     "name": "stderr",
     "output_type": "stream",
     "text": [
      "100%|██████████| 61/61 [00:00<00:00, 100.15it/s]\n"
     ]
    },
    {
     "name": "stdout",
     "output_type": "stream",
     "text": [
      "Train Epoch: 19\n",
      "Loss: 1.1107181408366218\n"
     ]
    },
    {
     "name": "stderr",
     "output_type": "stream",
     "text": [
      "100%|██████████| 16/16 [00:00<00:00, 237.70it/s]\n"
     ]
    },
    {
     "name": "stdout",
     "output_type": "stream",
     "text": [
      "Valid Epoch: 19\n",
      "hit:\n",
      "\thit@1: 0.1148\n",
      "\thit@10: 0.3279\n",
      "\thit@50: 0.5246\n",
      "gini_index:\n",
      "\tgini_index@1: 0.2156\n",
      "\tgini_index@10: 0.3157\n",
      "\tgini_index@50: 0.3783\n",
      "diversity:\n",
      "\tdiversity@1: 0.9776\n",
      "\tdiversity@10: 0.9697\n",
      "\tdiversity@50: 0.9540\n",
      "nDCG:\n",
      "\tnDCG@1: 0.1148\n",
      "\tnDCG@10: 0.2035\n",
      "\tnDCG@50: 0.2448\n",
      "MRR:\n",
      "\tMRR@1: 0.1148\n",
      "\tMRR@10: 0.1746\n",
      "\tMRR@50: 0.1835\n",
      "\n"
     ]
    },
    {
     "name": "stderr",
     "output_type": "stream",
     "text": [
      "100%|██████████| 61/61 [00:00<00:00, 96.61it/s]\n"
     ]
    },
    {
     "name": "stdout",
     "output_type": "stream",
     "text": [
      "Train Epoch: 20\n",
      "Loss: 1.0490530817235102\n"
     ]
    },
    {
     "name": "stderr",
     "output_type": "stream",
     "text": [
      "100%|██████████| 16/16 [00:00<00:00, 244.45it/s]\n"
     ]
    },
    {
     "name": "stdout",
     "output_type": "stream",
     "text": [
      "Valid Epoch: 20\n",
      "hit:\n",
      "\thit@1: 0.0984\n",
      "\thit@10: 0.3279\n",
      "\thit@50: 0.5246\n",
      "gini_index:\n",
      "\tgini_index@1: 0.1998\n",
      "\tgini_index@10: 0.3117\n",
      "\tgini_index@50: 0.3780\n",
      "diversity:\n",
      "\tdiversity@1: 0.9814\n",
      "\tdiversity@10: 0.9710\n",
      "\tdiversity@50: 0.9550\n",
      "nDCG:\n",
      "\tnDCG@1: 0.0984\n",
      "\tnDCG@10: 0.1884\n",
      "\tnDCG@50: 0.2372\n",
      "MRR:\n",
      "\tMRR@1: 0.0984\n",
      "\tMRR@10: 0.1550\n",
      "\tMRR@50: 0.1637\n",
      "\n"
     ]
    },
    {
     "name": "stderr",
     "output_type": "stream",
     "text": [
      "100%|██████████| 61/61 [00:00<00:00, 99.23it/s] \n"
     ]
    },
    {
     "name": "stdout",
     "output_type": "stream",
     "text": [
      "Train Epoch: 21\n",
      "Loss: 1.00379444243478\n"
     ]
    },
    {
     "name": "stderr",
     "output_type": "stream",
     "text": [
      "100%|██████████| 16/16 [00:00<00:00, 248.81it/s]\n"
     ]
    },
    {
     "name": "stdout",
     "output_type": "stream",
     "text": [
      "Valid Epoch: 21\n",
      "hit:\n",
      "\thit@1: 0.0820\n",
      "\thit@10: 0.3279\n",
      "\thit@50: 0.5410\n",
      "gini_index:\n",
      "\tgini_index@1: 0.1397\n",
      "\tgini_index@10: 0.3147\n",
      "\tgini_index@50: 0.3787\n",
      "diversity:\n",
      "\tdiversity@1: 0.9902\n",
      "\tdiversity@10: 0.9719\n",
      "\tdiversity@50: 0.9552\n",
      "nDCG:\n",
      "\tnDCG@1: 0.0820\n",
      "\tnDCG@10: 0.1754\n",
      "\tnDCG@50: 0.2327\n",
      "MRR:\n",
      "\tMRR@1: 0.0820\n",
      "\tMRR@10: 0.1344\n",
      "\tMRR@50: 0.1434\n",
      "\n"
     ]
    },
    {
     "name": "stderr",
     "output_type": "stream",
     "text": [
      "100%|██████████| 61/61 [00:00<00:00, 99.57it/s] \n"
     ]
    },
    {
     "name": "stdout",
     "output_type": "stream",
     "text": [
      "Train Epoch: 22\n",
      "Loss: 0.9551085214145848\n"
     ]
    },
    {
     "name": "stderr",
     "output_type": "stream",
     "text": [
      "100%|██████████| 16/16 [00:00<00:00, 234.21it/s]\n"
     ]
    },
    {
     "name": "stdout",
     "output_type": "stream",
     "text": [
      "Valid Epoch: 22\n",
      "hit:\n",
      "\thit@1: 0.0656\n",
      "\thit@10: 0.3115\n",
      "\thit@50: 0.5410\n",
      "gini_index:\n",
      "\tgini_index@1: 0.1466\n",
      "\tgini_index@10: 0.3196\n",
      "\tgini_index@50: 0.3780\n",
      "diversity:\n",
      "\tdiversity@1: 0.9923\n",
      "\tdiversity@10: 0.9717\n",
      "\tdiversity@50: 0.9548\n",
      "nDCG:\n",
      "\tnDCG@1: 0.0656\n",
      "\tnDCG@10: 0.1568\n",
      "\tnDCG@50: 0.2212\n",
      "MRR:\n",
      "\tMRR@1: 0.0656\n",
      "\tMRR@10: 0.1164\n",
      "\tMRR@50: 0.1263\n",
      "\n"
     ]
    },
    {
     "name": "stderr",
     "output_type": "stream",
     "text": [
      "100%|██████████| 61/61 [00:00<00:00, 102.23it/s]\n"
     ]
    },
    {
     "name": "stdout",
     "output_type": "stream",
     "text": [
      "Train Epoch: 23\n",
      "Loss: 0.9448880133081655\n"
     ]
    },
    {
     "name": "stderr",
     "output_type": "stream",
     "text": [
      "100%|██████████| 16/16 [00:00<00:00, 230.37it/s]\n"
     ]
    },
    {
     "name": "stdout",
     "output_type": "stream",
     "text": [
      "Valid Epoch: 23\n",
      "hit:\n",
      "\thit@1: 0.0328\n",
      "\thit@10: 0.2787\n",
      "\thit@50: 0.5246\n",
      "gini_index:\n",
      "\tgini_index@1: 0.1711\n",
      "\tgini_index@10: 0.3258\n",
      "\tgini_index@50: 0.3735\n",
      "diversity:\n",
      "\tdiversity@1: 0.9913\n",
      "\tdiversity@10: 0.9701\n",
      "\tdiversity@50: 0.9556\n",
      "nDCG:\n",
      "\tnDCG@1: 0.0328\n",
      "\tnDCG@10: 0.1392\n",
      "\tnDCG@50: 0.2085\n",
      "MRR:\n",
      "\tMRR@1: 0.0328\n",
      "\tMRR@10: 0.0950\n",
      "\tMRR@50: 0.1065\n",
      "\n"
     ]
    },
    {
     "name": "stderr",
     "output_type": "stream",
     "text": [
      "100%|██████████| 61/61 [00:00<00:00, 101.29it/s]\n"
     ]
    },
    {
     "name": "stdout",
     "output_type": "stream",
     "text": [
      "Train Epoch: 24\n",
      "Loss: 0.8885579402329492\n"
     ]
    },
    {
     "name": "stderr",
     "output_type": "stream",
     "text": [
      "100%|██████████| 16/16 [00:00<00:00, 234.27it/s]\n"
     ]
    },
    {
     "name": "stdout",
     "output_type": "stream",
     "text": [
      "Valid Epoch: 24\n",
      "hit:\n",
      "\thit@1: 0.0328\n",
      "\thit@10: 0.2623\n",
      "\thit@50: 0.5246\n",
      "gini_index:\n",
      "\tgini_index@1: 0.1779\n",
      "\tgini_index@10: 0.3240\n",
      "\tgini_index@50: 0.3748\n",
      "diversity:\n",
      "\tdiversity@1: 0.9896\n",
      "\tdiversity@10: 0.9714\n",
      "\tdiversity@50: 0.9548\n",
      "nDCG:\n",
      "\tnDCG@1: 0.0328\n",
      "\tnDCG@10: 0.1386\n",
      "\tnDCG@50: 0.2067\n",
      "MRR:\n",
      "\tMRR@1: 0.0328\n",
      "\tMRR@10: 0.1000\n",
      "\tMRR@50: 0.1127\n",
      "\n"
     ]
    },
    {
     "name": "stderr",
     "output_type": "stream",
     "text": [
      "100%|██████████| 61/61 [00:00<00:00, 99.10it/s] \n"
     ]
    },
    {
     "name": "stdout",
     "output_type": "stream",
     "text": [
      "Train Epoch: 25\n",
      "Loss: 0.8799901506939872\n"
     ]
    },
    {
     "name": "stderr",
     "output_type": "stream",
     "text": [
      "100%|██████████| 16/16 [00:00<00:00, 233.97it/s]\n"
     ]
    },
    {
     "name": "stdout",
     "output_type": "stream",
     "text": [
      "Valid Epoch: 25\n",
      "hit:\n",
      "\thit@1: 0.0328\n",
      "\thit@10: 0.2787\n",
      "\thit@50: 0.5246\n",
      "gini_index:\n",
      "\tgini_index@1: 0.1679\n",
      "\tgini_index@10: 0.3307\n",
      "\tgini_index@50: 0.3763\n",
      "diversity:\n",
      "\tdiversity@1: 0.9913\n",
      "\tdiversity@10: 0.9700\n",
      "\tdiversity@50: 0.9543\n",
      "nDCG:\n",
      "\tnDCG@1: 0.0328\n",
      "\tnDCG@10: 0.1394\n",
      "\tnDCG@50: 0.2031\n",
      "MRR:\n",
      "\tMRR@1: 0.0328\n",
      "\tMRR@10: 0.0973\n",
      "\tMRR@50: 0.1082\n",
      "\n"
     ]
    },
    {
     "name": "stderr",
     "output_type": "stream",
     "text": [
      "100%|██████████| 61/61 [00:00<00:00, 100.32it/s]\n"
     ]
    },
    {
     "name": "stdout",
     "output_type": "stream",
     "text": [
      "Train Epoch: 26\n",
      "Loss: 0.8364635715719129\n"
     ]
    },
    {
     "name": "stderr",
     "output_type": "stream",
     "text": [
      "100%|██████████| 16/16 [00:00<00:00, 262.36it/s]\n"
     ]
    },
    {
     "name": "stdout",
     "output_type": "stream",
     "text": [
      "Valid Epoch: 26\n",
      "hit:\n",
      "\thit@1: 0.0492\n",
      "\thit@10: 0.1967\n",
      "\thit@50: 0.5246\n",
      "gini_index:\n",
      "\tgini_index@1: 0.1827\n",
      "\tgini_index@10: 0.3254\n",
      "\tgini_index@50: 0.3753\n",
      "diversity:\n",
      "\tdiversity@1: 0.9896\n",
      "\tdiversity@10: 0.9707\n",
      "\tdiversity@50: 0.9546\n",
      "nDCG:\n",
      "\tnDCG@1: 0.0492\n",
      "\tnDCG@10: 0.1146\n",
      "\tnDCG@50: 0.2006\n",
      "MRR:\n",
      "\tMRR@1: 0.0492\n",
      "\tMRR@10: 0.0910\n",
      "\tMRR@50: 0.1085\n",
      "\n"
     ]
    },
    {
     "name": "stderr",
     "output_type": "stream",
     "text": [
      "100%|██████████| 61/61 [00:00<00:00, 99.36it/s] \n"
     ]
    },
    {
     "name": "stdout",
     "output_type": "stream",
     "text": [
      "Train Epoch: 27\n",
      "Loss: 0.8180449976295722\n"
     ]
    },
    {
     "name": "stderr",
     "output_type": "stream",
     "text": [
      "100%|██████████| 16/16 [00:00<00:00, 238.62it/s]\n"
     ]
    },
    {
     "name": "stdout",
     "output_type": "stream",
     "text": [
      "Valid Epoch: 27\n",
      "hit:\n",
      "\thit@1: 0.0328\n",
      "\thit@10: 0.1967\n",
      "\thit@50: 0.5246\n",
      "gini_index:\n",
      "\tgini_index@1: 0.2259\n",
      "\tgini_index@10: 0.3337\n",
      "\tgini_index@50: 0.3763\n",
      "diversity:\n",
      "\tdiversity@1: 0.9847\n",
      "\tdiversity@10: 0.9687\n",
      "\tdiversity@50: 0.9546\n",
      "nDCG:\n",
      "\tnDCG@1: 0.0328\n",
      "\tnDCG@10: 0.1088\n",
      "\tnDCG@50: 0.1945\n",
      "MRR:\n",
      "\tMRR@1: 0.0328\n",
      "\tMRR@10: 0.0813\n",
      "\tMRR@50: 0.0985\n",
      "\n"
     ]
    },
    {
     "name": "stderr",
     "output_type": "stream",
     "text": [
      "100%|██████████| 61/61 [00:00<00:00, 100.42it/s]\n"
     ]
    },
    {
     "name": "stdout",
     "output_type": "stream",
     "text": [
      "Train Epoch: 28\n",
      "Loss: 0.7909796394285609\n"
     ]
    },
    {
     "name": "stderr",
     "output_type": "stream",
     "text": [
      "100%|██████████| 16/16 [00:00<00:00, 210.60it/s]\n"
     ]
    },
    {
     "name": "stdout",
     "output_type": "stream",
     "text": [
      "Valid Epoch: 28\n",
      "hit:\n",
      "\thit@1: 0.0328\n",
      "\thit@10: 0.1967\n",
      "\thit@50: 0.5246\n",
      "gini_index:\n",
      "\tgini_index@1: 0.2448\n",
      "\tgini_index@10: 0.3202\n",
      "\tgini_index@50: 0.3757\n",
      "diversity:\n",
      "\tdiversity@1: 0.9814\n",
      "\tdiversity@10: 0.9710\n",
      "\tdiversity@50: 0.9547\n",
      "nDCG:\n",
      "\tnDCG@1: 0.0328\n",
      "\tnDCG@10: 0.1056\n",
      "\tnDCG@50: 0.1920\n",
      "MRR:\n",
      "\tMRR@1: 0.0328\n",
      "\tMRR@10: 0.0796\n",
      "\tMRR@50: 0.0967\n",
      "\n"
     ]
    },
    {
     "name": "stderr",
     "output_type": "stream",
     "text": [
      "100%|██████████| 61/61 [00:00<00:00, 97.38it/s] \n"
     ]
    },
    {
     "name": "stdout",
     "output_type": "stream",
     "text": [
      "Train Epoch: 29\n",
      "Loss: 0.7705813797770954\n"
     ]
    },
    {
     "name": "stderr",
     "output_type": "stream",
     "text": [
      "100%|██████████| 16/16 [00:00<00:00, 252.65it/s]\n"
     ]
    },
    {
     "name": "stdout",
     "output_type": "stream",
     "text": [
      "Valid Epoch: 29\n",
      "hit:\n",
      "\thit@1: 0.0164\n",
      "\thit@10: 0.2131\n",
      "\thit@50: 0.5246\n",
      "gini_index:\n",
      "\tgini_index@1: 0.2120\n",
      "\tgini_index@10: 0.3135\n",
      "\tgini_index@50: 0.3720\n",
      "diversity:\n",
      "\tdiversity@1: 0.9863\n",
      "\tdiversity@10: 0.9719\n",
      "\tdiversity@50: 0.9549\n",
      "nDCG:\n",
      "\tnDCG@1: 0.0164\n",
      "\tnDCG@10: 0.1075\n",
      "\tnDCG@50: 0.1894\n",
      "MRR:\n",
      "\tMRR@1: 0.0164\n",
      "\tMRR@10: 0.0730\n",
      "\tMRR@50: 0.0882\n",
      "\n"
     ]
    },
    {
     "name": "stderr",
     "output_type": "stream",
     "text": [
      "100%|██████████| 61/61 [00:00<00:00, 97.33it/s] \n"
     ]
    },
    {
     "name": "stdout",
     "output_type": "stream",
     "text": [
      "Train Epoch: 30\n",
      "Loss: 0.7711418886653713\n"
     ]
    },
    {
     "name": "stderr",
     "output_type": "stream",
     "text": [
      "100%|██████████| 16/16 [00:00<00:00, 260.20it/s]\n"
     ]
    },
    {
     "name": "stdout",
     "output_type": "stream",
     "text": [
      "Valid Epoch: 30\n",
      "hit:\n",
      "\thit@1: 0.0328\n",
      "\thit@10: 0.2131\n",
      "\thit@50: 0.5082\n",
      "gini_index:\n",
      "\tgini_index@1: 0.2208\n",
      "\tgini_index@10: 0.3166\n",
      "\tgini_index@50: 0.3709\n",
      "diversity:\n",
      "\tdiversity@1: 0.9858\n",
      "\tdiversity@10: 0.9712\n",
      "\tdiversity@50: 0.9549\n",
      "nDCG:\n",
      "\tnDCG@1: 0.0328\n",
      "\tnDCG@10: 0.1144\n",
      "\tnDCG@50: 0.1892\n",
      "MRR:\n",
      "\tMRR@1: 0.0328\n",
      "\tMRR@10: 0.0846\n",
      "\tMRR@50: 0.0997\n",
      "\n",
      "==========TRAIN END==========\n"
     ]
    },
    {
     "name": "stderr",
     "output_type": "stream",
     "text": [
      "100%|██████████| 16/16 [00:00<00:00, 250.61it/s]\n"
     ]
    },
    {
     "name": "stdout",
     "output_type": "stream",
     "text": [
      "Test Loss: 2.5238191708922386\n",
      "hit:\n",
      "\thit@1: 0.1290\n",
      "\thit@10: 0.2581\n",
      "\thit@50: 0.3387\n",
      "gini_index:\n",
      "\tgini_index@1: 0.2309\n",
      "\tgini_index@10: 0.3276\n",
      "\tgini_index@50: 0.3660\n",
      "diversity:\n",
      "\tdiversity@1: 0.9857\n",
      "\tdiversity@10: 0.9710\n",
      "\tdiversity@50: 0.9562\n",
      "nDCG:\n",
      "\tnDCG@1: 0.1290\n",
      "\tnDCG@10: 0.1771\n",
      "\tnDCG@50: 0.1775\n",
      "MRR:\n",
      "\tMRR@1: 0.1290\n",
      "\tMRR@10: 0.1645\n",
      "\tMRR@50: 0.1677\n",
      "\n"
     ]
    }
   ],
   "source": [
    "if __name__ == '__main__':\n",
    "    trainer.train()\n",
    "    trainer.test()"
   ],
   "metadata": {
    "collapsed": false,
    "pycharm": {
     "name": "#%%\n"
    }
   }
  },
  {
   "cell_type": "code",
   "execution_count": 29,
   "outputs": [
    {
     "data": {
      "text/plain": "torch.return_types.topk(\nvalues=tensor([[0.1160, 0.1099, 0.1079, 0.1066, 0.1062, 0.1055, 0.1046, 0.1045, 0.1043,\n         0.1030, 0.1030, 0.1023, 0.1022, 0.1005, 0.1001, 0.0999, 0.0994, 0.0986,\n         0.0984, 0.0980, 0.0977, 0.0975, 0.0968, 0.0967, 0.0964, 0.0962, 0.0962,\n         0.0959, 0.0957, 0.0956, 0.0956, 0.0955, 0.0953, 0.0952, 0.0952, 0.0949,\n         0.0949, 0.0943, 0.0942, 0.0942, 0.0941, 0.0941, 0.0940, 0.0939, 0.0938,\n         0.0936, 0.0933, 0.0933, 0.0933, 0.0932],\n        [0.7879, 0.7620, 0.7618, 0.7144, 0.7096, 0.7091, 0.7006, 0.6990, 0.6962,\n         0.6919, 0.6863, 0.6770, 0.6751, 0.6740, 0.6729, 0.6695, 0.6673, 0.6663,\n         0.6657, 0.6643, 0.6625, 0.6603, 0.6598, 0.6594, 0.6591, 0.6589, 0.6585,\n         0.6582, 0.6571, 0.6542, 0.6537, 0.6501, 0.6492, 0.6477, 0.6440, 0.6439,\n         0.6430, 0.6429, 0.6428, 0.6424, 0.6418, 0.6416, 0.6411, 0.6397, 0.6393,\n         0.6390, 0.6385, 0.6381, 0.6380, 0.6374]], grad_fn=<TopkBackward0>),\nindices=tensor([[  1394,   1272,   8528,  95167,   1997,  69757, 168248,  70286,  30707,\n           1278,    588,   1231,  68358, 148626,   4973,   7147,   1032,  57274,\n            272,   2985,  72641,   6188,   4989,   6787, 140110,  86833,   1230,\n           2924,  38038,    356,   7325,  55290,   3462,  47640,   3265,    101,\n         161131,  33162,     28,   3977,   3177, 102125, 122892,   7293,  42728,\n          37384,   1274,   5673, 122916,   3088],\n        [   858, 104841,   1272,   3148,   3972,   3507,   2571,   2580,   1248,\n           3683,    903,   8464,   2065,    930,   2020,   1041,  47999,   2301,\n           1296,   2300,   1277,   4226,    904,    593, 177765,    914,  54995,\n           2959,   2819,   1945,   2360,   2944,   7156,   3386,   5292,   1221,\n           4334,  68237,   3083,  69481,   3503,   2872,  72226,  56251,   8132,\n           2924,   2064,   3685,    898,   1297]]))"
     },
     "execution_count": 29,
     "metadata": {},
     "output_type": "execute_result"
    }
   ],
   "source": [
    "model.rec([0, 1])"
   ],
   "metadata": {
    "collapsed": false,
    "pycharm": {
     "name": "#%%\n"
    }
   }
  },
  {
   "cell_type": "code",
   "execution_count": 29,
   "outputs": [],
   "source": [],
   "metadata": {
    "collapsed": false,
    "pycharm": {
     "name": "#%%\n"
    }
   }
  }
 ],
 "metadata": {
  "kernelspec": {
   "display_name": "Python 3",
   "language": "python",
   "name": "python3"
  },
  "language_info": {
   "codemirror_mode": {
    "name": "ipython",
    "version": 2
   },
   "file_extension": ".py",
   "mimetype": "text/x-python",
   "name": "python",
   "nbconvert_exporter": "python",
   "pygments_lexer": "ipython2",
   "version": "2.7.6"
  }
 },
 "nbformat": 4,
 "nbformat_minor": 0
}