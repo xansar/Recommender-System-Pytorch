{
 "cells": [
  {
   "cell_type": "markdown",
   "source": [
    "# MF"
   ],
   "metadata": {
    "collapsed": false,
    "pycharm": {
     "name": "#%% md\n"
    }
   }
  },
  {
   "cell_type": "code",
   "execution_count": 1,
   "outputs": [],
   "source": [
    "# 加载依赖\n",
    "import numpy as np\n",
    "import torch\n",
    "from torch.utils.data import DataLoader\n",
    "import torch.nn as nn\n",
    "import torch.optim as optim\n",
    "\n",
    "from tqdm import tqdm\n",
    "from utils.movielens_dataset import MovieLensDatasetWithTorch\n",
    "from utils.metric import Metric\n",
    "from utils.trainer import Trainer"
   ],
   "metadata": {
    "collapsed": false,
    "pycharm": {
     "name": "#%%\n"
    }
   }
  },
  {
   "cell_type": "code",
   "execution_count": 2,
   "outputs": [],
   "source": [
    "# 使用的超参数\n",
    "config = {\n",
    "    'TRAIN_BATCH_SIZE': 8,\n",
    "    'VALID_BATCH_SIZE': 4,\n",
    "    'TEST_BATCH_SIZE': 4,\n",
    "    'DATASET_RATIO': [0.8, 0.1, 0.1],\n",
    "    'DEVICE': 'cpu',\n",
    "    'NUM_WORKERS': 0,\n",
    "    'EPOCH': 30,\n",
    "    'NUM_FEATURE': 111,\n",
    "    'POS_WEIGHT': 2,\n",
    "    'LEARNING_RATE': 1e-3,\n",
    "    'K': 8,\n",
    "}"
   ],
   "metadata": {
    "collapsed": false,
    "pycharm": {
     "name": "#%%\n"
    }
   }
  },
  {
   "cell_type": "code",
   "execution_count": 3,
   "metadata": {
    "collapsed": true,
    "pycharm": {
     "name": "#%%\n"
    }
   },
   "outputs": [],
   "source": [
    "# 加载数据集\n",
    "# MovieLens\n",
    "with open('../dataset/ml-latest-small-ratings.txt', 'r', encoding='utf-8') as f:\n",
    "    ml_dataset = MovieLensDatasetWithTorch(f, task='rating')\n",
    "dataset_size = len(ml_dataset)\n",
    "dataset_split_size = [int(dataset_size * r) for r in config['DATASET_RATIO']]\n",
    "if sum(dataset_split_size) != dataset_size:\n",
    "    dataset_split_size[-1] += dataset_size - sum(dataset_split_size)\n",
    "train_set, valid_set, test_set = torch.utils.data.random_split(ml_dataset, dataset_split_size)\n",
    "\n",
    "user_num, item_num = ml_dataset.user_num, ml_dataset.item_num"
   ]
  },
  {
   "cell_type": "code",
   "execution_count": 4,
   "outputs": [
    {
     "data": {
      "text/plain": "utils.movielens_dataset.MovieLensDatasetWithTorch"
     },
     "execution_count": 4,
     "metadata": {},
     "output_type": "execute_result"
    }
   ],
   "source": [
    "type(ml_dataset)"
   ],
   "metadata": {
    "collapsed": false,
    "pycharm": {
     "name": "#%%\n"
    }
   }
  },
  {
   "cell_type": "code",
   "execution_count": 5,
   "outputs": [],
   "source": [
    "train_loader = DataLoader(\n",
    "    dataset=train_set,\n",
    "    batch_size=config['TRAIN_BATCH_SIZE'],\n",
    "    shuffle=True,\n",
    "    num_workers=config['NUM_WORKERS']\n",
    ")\n",
    "\n",
    "valid_loader = DataLoader(\n",
    "    dataset=valid_set,\n",
    "    batch_size=config['VALID_BATCH_SIZE'],\n",
    "    shuffle=False,\n",
    "    num_workers=config['NUM_WORKERS']\n",
    ")\n",
    "\n",
    "test_loader = DataLoader(\n",
    "    dataset=test_set,\n",
    "    batch_size=config['TEST_BATCH_SIZE'],\n",
    "    shuffle=False,\n",
    "    num_workers=config['NUM_WORKERS']\n",
    ")"
   ],
   "metadata": {
    "collapsed": false,
    "pycharm": {
     "name": "#%%\n"
    }
   }
  },
  {
   "cell_type": "code",
   "execution_count": 6,
   "outputs": [],
   "source": [
    "# 构建模型\n",
    "class MF(nn.Module):\n",
    "    def __init__(self, user_num, item_num, k):\n",
    "        super(MF, self).__init__()\n",
    "        U = torch.zeros((user_num, k))\n",
    "        I = torch.zeros((item_num, k))\n",
    "\n",
    "        nn.init.xavier_uniform_(U)\n",
    "        nn.init.xavier_uniform_(I)\n",
    "\n",
    "        self.U = nn.Parameter(U, requires_grad=True)\n",
    "        self.I = nn.Parameter(I, requires_grad=True)\n",
    "\n",
    "    def forward(self, batch_x):\n",
    "        batch_x = batch_x[0]\n",
    "        idxs = batch_x.coalesce().indices()\n",
    "        user_idx, item_idx = idxs[0, :], idxs[1, :]\n",
    "        user_factor = self.U[user_idx, :]\n",
    "        item_factor = self.I[item_idx, :]\n",
    "        return torch.sum(user_factor * item_factor, dim=1)"
   ],
   "metadata": {
    "collapsed": false,
    "pycharm": {
     "name": "#%%\n"
    }
   }
  },
  {
   "cell_type": "code",
   "execution_count": 7,
   "outputs": [
    {
     "name": "stdout",
     "output_type": "stream",
     "text": [
      "==========Config==========\n",
      "TRAIN_BATCH_SIZE: 8\n",
      "VALID_BATCH_SIZE: 4\n",
      "TEST_BATCH_SIZE: 4\n",
      "DATASET_RATIO: [0.8, 0.1, 0.1]\n",
      "DEVICE: cpu\n",
      "NUM_WORKERS: 0\n",
      "EPOCH: 30\n",
      "NUM_FEATURE: 111\n",
      "POS_WEIGHT: 2\n",
      "LEARNING_RATE: 0.001\n",
      "K: 8\n",
      "=========================\n"
     ]
    }
   ],
   "source": [
    "model = MF(user_num, item_num, k=config['K'])\n",
    "optimizer = optim.Adam(lr=config['LEARNING_RATE'], params=model.parameters())\n",
    "loss_func = nn.MSELoss()\n",
    "metric = Metric()\n",
    "\n",
    "trainer = Trainer(\n",
    "    model=model,\n",
    "    loss_func=loss_func,\n",
    "    optimizer=optimizer,\n",
    "    metric=metric,\n",
    "    train_loader=train_loader,\n",
    "    valid_loader=valid_loader,\n",
    "    test_loader=test_loader,\n",
    "    config=config,\n",
    ")"
   ],
   "metadata": {
    "collapsed": false,
    "pycharm": {
     "name": "#%%\n"
    }
   }
  },
  {
   "cell_type": "code",
   "execution_count": 8,
   "outputs": [
    {
     "name": "stdout",
     "output_type": "stream",
     "text": [
      "==========TRAIN BEGIN==========\n"
     ]
    },
    {
     "name": "stderr",
     "output_type": "stream",
     "text": [
      "100%|██████████| 61/61 [00:00<00:00, 204.40it/s]\n"
     ]
    },
    {
     "name": "stdout",
     "output_type": "stream",
     "text": [
      "Train Epoch: 1\n",
      "Loss: 13.885458883692007\n"
     ]
    },
    {
     "ename": "AttributeError",
     "evalue": "'Metric' object has no attribute 'init_metric'",
     "output_type": "error",
     "traceback": [
      "\u001B[0;31m---------------------------------------------------------------------------\u001B[0m",
      "\u001B[0;31mAttributeError\u001B[0m                            Traceback (most recent call last)",
      "Input \u001B[0;32mIn [8]\u001B[0m, in \u001B[0;36m<cell line: 1>\u001B[0;34m()\u001B[0m\n\u001B[1;32m      1\u001B[0m \u001B[38;5;28;01mif\u001B[39;00m \u001B[38;5;18m__name__\u001B[39m \u001B[38;5;241m==\u001B[39m \u001B[38;5;124m'\u001B[39m\u001B[38;5;124m__main__\u001B[39m\u001B[38;5;124m'\u001B[39m:\n\u001B[0;32m----> 2\u001B[0m     \u001B[43mtrainer\u001B[49m\u001B[38;5;241;43m.\u001B[39;49m\u001B[43mtrain\u001B[49m\u001B[43m(\u001B[49m\u001B[43m)\u001B[49m\n\u001B[1;32m      3\u001B[0m     trainer\u001B[38;5;241m.\u001B[39mtest()\n",
      "File \u001B[0;32m~/PycharmProjects/RecommenderSystem/Recommender-System-Pytorch/MyImplement/utils/trainer.py:86\u001B[0m, in \u001B[0;36mTrainer.train\u001B[0;34m(self)\u001B[0m\n\u001B[1;32m     84\u001B[0m \u001B[38;5;28;01mif\u001B[39;00m e \u001B[38;5;241m%\u001B[39m \u001B[38;5;241m1\u001B[39m \u001B[38;5;241m==\u001B[39m \u001B[38;5;241m0\u001B[39m:\n\u001B[1;32m     85\u001B[0m     all_loss \u001B[38;5;241m=\u001B[39m \u001B[38;5;241m0.0\u001B[39m\n\u001B[0;32m---> 86\u001B[0m     \u001B[38;5;28;43mself\u001B[39;49m\u001B[38;5;241;43m.\u001B[39;49m\u001B[43mmetric\u001B[49m\u001B[38;5;241;43m.\u001B[39;49m\u001B[43minit_metric\u001B[49m()\n\u001B[1;32m     87\u001B[0m     \u001B[38;5;28;01mfor\u001B[39;00m s, batch_data \u001B[38;5;129;01min\u001B[39;00m \u001B[38;5;28menumerate\u001B[39m(tqdm(\u001B[38;5;28mself\u001B[39m\u001B[38;5;241m.\u001B[39mvalid_loader)):\n\u001B[1;32m     88\u001B[0m         loss, pred \u001B[38;5;241m=\u001B[39m \u001B[38;5;28mself\u001B[39m\u001B[38;5;241m.\u001B[39mstep(batch_data, mode\u001B[38;5;241m=\u001B[39m\u001B[38;5;124m'\u001B[39m\u001B[38;5;124mevaluate\u001B[39m\u001B[38;5;124m'\u001B[39m)\n",
      "\u001B[0;31mAttributeError\u001B[0m: 'Metric' object has no attribute 'init_metric'"
     ]
    }
   ],
   "source": [
    "if __name__ == '__main__':\n",
    "    trainer.train()\n",
    "    trainer.test()"
   ],
   "metadata": {
    "collapsed": false,
    "pycharm": {
     "name": "#%%\n"
    }
   }
  },
  {
   "cell_type": "code",
   "execution_count": null,
   "outputs": [],
   "source": [],
   "metadata": {
    "collapsed": false,
    "pycharm": {
     "name": "#%%\n"
    }
   }
  }
 ],
 "metadata": {
  "kernelspec": {
   "display_name": "Python 3",
   "language": "python",
   "name": "python3"
  },
  "language_info": {
   "codemirror_mode": {
    "name": "ipython",
    "version": 2
   },
   "file_extension": ".py",
   "mimetype": "text/x-python",
   "name": "python",
   "nbconvert_exporter": "python",
   "pygments_lexer": "ipython2",
   "version": "2.7.6"
  }
 },
 "nbformat": 4,
 "nbformat_minor": 0
}